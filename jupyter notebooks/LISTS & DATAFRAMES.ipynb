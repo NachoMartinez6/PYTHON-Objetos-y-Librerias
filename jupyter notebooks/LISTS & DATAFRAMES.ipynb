{
 "cells": [
  {
   "cell_type": "markdown",
   "metadata": {},
   "source": [
    "# INTRODUCTION TO PYTHON\n",
    "\n",
    "\n",
    "## Goal:\n",
    "\n",
    "- How to create different objects (lists and dataframes) in Python.\n",
    "\n",
    "\n",
    "## Tasks:\n",
    "\n",
    "- Create lists of different types of data\n",
    "- Select different elements from a list (indexing)\n",
    "- Add, delete or modify items in a list\n",
    "- Create a Dataframe from lists"
   ]
  },
  {
   "cell_type": "markdown",
   "metadata": {},
   "source": [
    "#  Creating lists with data from Social Networks\n"
   ]
  },
  {
   "cell_type": "code",
   "execution_count": 1,
   "metadata": {},
   "outputs": [
    {
     "data": {
      "text/plain": [
       "(['Facebook', 2449, True], ['Twitter', 339, False], ['Instagram', 1000, True])"
      ]
     },
     "execution_count": 1,
     "metadata": {},
     "output_type": "execute_result"
    }
   ],
   "source": [
    "# Social networks\n",
    "#=================================\n",
    "\n",
    "fbk = [\"Facebook\", 2449, True]\n",
    "twt = [\"Twitter\", 339, False]\n",
    "ig = [\"Instagram\", 1000, True]\n",
    "yt = [\"YouTube\", 2000, False]\n",
    "lkn = [\"LinkedIn\", 663, False]\n",
    "wsp  = [\"WhatsApp\", 1600, True]\n",
    "\n",
    "fbk, twt, ig\n"
   ]
  },
  {
   "cell_type": "markdown",
   "metadata": {},
   "source": [
    "## We add a 4th element: **Creation date**\n",
    "\n",
    "- For this we will use the function `.append ()`"
   ]
  },
  {
   "cell_type": "code",
   "execution_count": 2,
   "metadata": {},
   "outputs": [
    {
     "data": {
      "text/plain": [
       "(['Facebook', 2449, True, 2006],\n",
       " ['Twitter', 339, False, 2006],\n",
       " ['Instagram', 1000, True, 2010],\n",
       " ['YouTube', 2000, False, 2005],\n",
       " ['LinkedIn', 663, False, 2003],\n",
       " ['WhatsApp', 1600, True, 2009])"
      ]
     },
     "execution_count": 2,
     "metadata": {},
     "output_type": "execute_result"
    }
   ],
   "source": [
    "# We add data Creation Date\n",
    "#=================================\n",
    "\n",
    "fbk.append(2006)\n",
    "twt.append(2006)\n",
    "ig.append(2010)\n",
    "yt.append(2005)\n",
    "lkn.append(2003)\n",
    "wsp.append(2009)\n",
    "\n",
    "\n",
    "# fbk.remove(2006)\n",
    "# twt.remove(2006)\n",
    "# ig.remove(2010)\n",
    "# yt.remove(2005)\n",
    "# lkn.remove(2003)\n",
    "# wsp.remove(2009)\n",
    "\n",
    "\n",
    "fbk, twt, ig, yt, lkn, wsp\n"
   ]
  },
  {
   "cell_type": "markdown",
   "metadata": {},
   "source": [
    "# Select different items (Indexing)"
   ]
  },
  {
   "cell_type": "code",
   "execution_count": 3,
   "metadata": {},
   "outputs": [
    {
     "name": "stdout",
     "output_type": "stream",
     "text": [
      "Facebook\n",
      "['Facebook', 2449]\n",
      "['Facebook', 2449, True, 2006]\n"
     ]
    }
   ],
   "source": [
    "# We select an element from the list\n",
    "#=================================\n",
    "print(fbk[0])\n",
    "\n",
    "\n",
    "# We select a range of elements from the list\n",
    "#=================================\n",
    "print(fbk[0:2])\n",
    "\n",
    "\n",
    "# We select all the elements of the list\n",
    "#=================================\n",
    "print(fbk[:])\n",
    "\n"
   ]
  },
  {
   "cell_type": "code",
   "execution_count": 4,
   "metadata": {},
   "outputs": [
    {
     "name": "stdout",
     "output_type": "stream",
     "text": [
      "['Facebook', 'Twitter', 'Instagram', 'Youtube', 'LinkedIn']\n",
      "WhatsApp\n"
     ]
    }
   ],
   "source": [
    "# We create a list with the social network names\n",
    "#=================================\n",
    "nombres_rrss = [\"Facebook\", \"Twitter\", \"Instagram\", \"Youtube\", \"LinkedIn\", \"WhatsApp\"]\n",
    "\n",
    "\n",
    "# The last item does not enter the selection (WhatsApp)\n",
    "#=================================\n",
    "print(nombres_rrss[0:5])\n",
    "\n",
    "\n",
    "# We can make the selection in reverse\n",
    "#=================================\n",
    "print(nombres_rrss[-1])\n"
   ]
  },
  {
   "cell_type": "markdown",
   "metadata": {},
   "source": [
    "# Add, delete or modify items in a list\n",
    "\n",
    "\n",
    "## Other functions (extend, pop, remove, instert)\n",
    "\n",
    "- **Extend:** We can add more than one element (at one time) as a list\n",
    "- **Pop:** We will remove an element by the index (by default, the last one will be removed)\n",
    "- **Remove:** We will remove the element we want (according to name)\n",
    "- **Insert:** Insert an element, in the position we want\n"
   ]
  },
  {
   "cell_type": "code",
   "execution_count": 5,
   "metadata": {},
   "outputs": [
    {
     "data": {
      "text/plain": [
       "['Telegram', 400, False, 2014]"
      ]
     },
     "execution_count": 5,
     "metadata": {},
     "output_type": "execute_result"
    }
   ],
   "source": [
    "# Create list from zero\n",
    "#=================================\n",
    "tlg = []\n",
    "\n",
    "\n",
    "# Add data to the list\n",
    "#=================================\n",
    "tlg.append(\"Telegram\")\n",
    "tlg.extend([400, True, False])\n",
    "tlg.insert(3,2017)\n",
    "\n",
    "\n",
    "# Remove false data (2017, False)\n",
    "#=================================\n",
    "tlg.pop(4)\n",
    "tlg.remove(2017)\n",
    "\n",
    "\n",
    "# Modify True data (wrong data)\n",
    "#=================================\n",
    "tlg[2] = False\n",
    "\n",
    "\n",
    "# We add in position 3 with the insert function\n",
    "#=================================\n",
    "tlg.insert(3, 2014)\n",
    "\n",
    "tlg\n"
   ]
  },
  {
   "cell_type": "markdown",
   "metadata": {},
   "source": [
    "# Create a Dataframe from Lists"
   ]
  },
  {
   "cell_type": "code",
   "execution_count": 10,
   "metadata": {},
   "outputs": [
    {
     "data": {
      "text/plain": [
       "[['Facebook', 2449, True, 2006],\n",
       " ['Twitter', 339, False, 2006],\n",
       " ['Instagram', 1000, True, 2010],\n",
       " ['YouTube', 2000, False, 2005],\n",
       " ['LinkedIn', 663, False, 2003],\n",
       " ['WhatsApp', 1600, True, 2009]]"
      ]
     },
     "execution_count": 10,
     "metadata": {},
     "output_type": "execute_result"
    }
   ],
   "source": [
    "# We collect in a list all the information of the RRSS\n",
    "#=================================\n",
    "\n",
    "lista_rrss = [fbk, twt, ig, yt, lkn, wsp]\n",
    "\n",
    "lista_rrss\n"
   ]
  },
  {
   "cell_type": "code",
   "execution_count": 11,
   "metadata": {},
   "outputs": [
    {
     "data": {
      "text/html": [
       "<div>\n",
       "<style scoped>\n",
       "    .dataframe tbody tr th:only-of-type {\n",
       "        vertical-align: middle;\n",
       "    }\n",
       "\n",
       "    .dataframe tbody tr th {\n",
       "        vertical-align: top;\n",
       "    }\n",
       "\n",
       "    .dataframe thead th {\n",
       "        text-align: right;\n",
       "    }\n",
       "</style>\n",
       "<table border=\"1\" class=\"dataframe\">\n",
       "  <thead>\n",
       "    <tr style=\"text-align: right;\">\n",
       "      <th></th>\n",
       "      <th>Nombre</th>\n",
       "      <th>Cantidad</th>\n",
       "      <th>es_FBK</th>\n",
       "      <th>Año</th>\n",
       "    </tr>\n",
       "  </thead>\n",
       "  <tbody>\n",
       "    <tr>\n",
       "      <th>0</th>\n",
       "      <td>Facebook</td>\n",
       "      <td>2449</td>\n",
       "      <td>True</td>\n",
       "      <td>2006</td>\n",
       "    </tr>\n",
       "    <tr>\n",
       "      <th>1</th>\n",
       "      <td>Twitter</td>\n",
       "      <td>339</td>\n",
       "      <td>False</td>\n",
       "      <td>2006</td>\n",
       "    </tr>\n",
       "    <tr>\n",
       "      <th>2</th>\n",
       "      <td>Instagram</td>\n",
       "      <td>1000</td>\n",
       "      <td>True</td>\n",
       "      <td>2010</td>\n",
       "    </tr>\n",
       "    <tr>\n",
       "      <th>3</th>\n",
       "      <td>YouTube</td>\n",
       "      <td>2000</td>\n",
       "      <td>False</td>\n",
       "      <td>2005</td>\n",
       "    </tr>\n",
       "    <tr>\n",
       "      <th>4</th>\n",
       "      <td>LinkedIn</td>\n",
       "      <td>663</td>\n",
       "      <td>False</td>\n",
       "      <td>2003</td>\n",
       "    </tr>\n",
       "    <tr>\n",
       "      <th>5</th>\n",
       "      <td>WhatsApp</td>\n",
       "      <td>1600</td>\n",
       "      <td>True</td>\n",
       "      <td>2009</td>\n",
       "    </tr>\n",
       "  </tbody>\n",
       "</table>\n",
       "</div>"
      ],
      "text/plain": [
       "      Nombre  Cantidad  es_FBK   Año\n",
       "0   Facebook      2449    True  2006\n",
       "1    Twitter       339   False  2006\n",
       "2  Instagram      1000    True  2010\n",
       "3    YouTube      2000   False  2005\n",
       "4   LinkedIn       663   False  2003\n",
       "5   WhatsApp      1600    True  2009"
      ]
     },
     "execution_count": 11,
     "metadata": {},
     "output_type": "execute_result"
    }
   ],
   "source": [
    "# Import pandas and use DataFrame function\n",
    "#=================================\n",
    "\n",
    "import pandas as pd\n",
    "\n",
    "df = pd.DataFrame(lista_rrss, columns=[\"Nombre\", \"Cantidad\", \"es_FBK\", \"Año\"])\n",
    "\n",
    "df"
   ]
  },
  {
   "cell_type": "markdown",
   "metadata": {},
   "source": [
    "# It's all by now!\n",
    "\n",
    "## Session Information"
   ]
  },
  {
   "cell_type": "code",
   "execution_count": 2,
   "metadata": {},
   "outputs": [
    {
     "name": "stdout",
     "output_type": "stream",
     "text": [
      "-----\n",
      "sinfo       0.3.1\n",
      "-----\n",
      "IPython             7.19.0\n",
      "jupyter_client      6.1.7\n",
      "jupyter_core        4.7.0\n",
      "jupyterlab          2.2.6\n",
      "notebook            6.1.6\n",
      "-----\n",
      "Python 3.8.5 (default, Sep  3 2020, 21:29:08) [MSC v.1916 64 bit (AMD64)]\n",
      "Windows-10-10.0.19041-SP0\n",
      "8 logical CPU cores, Intel64 Family 6 Model 126 Stepping 5, GenuineIntel\n",
      "-----\n",
      "Session information updated at 2021-04-14 12:54\n"
     ]
    }
   ],
   "source": [
    "from sinfo import sinfo\n",
    "\n",
    "sinfo()"
   ]
  }
 ],
 "metadata": {
  "kernelspec": {
   "display_name": "Python 3",
   "language": "python",
   "name": "python3"
  },
  "language_info": {
   "codemirror_mode": {
    "name": "ipython",
    "version": 3
   },
   "file_extension": ".py",
   "mimetype": "text/x-python",
   "name": "python",
   "nbconvert_exporter": "python",
   "pygments_lexer": "ipython3",
   "version": "3.8.5"
  }
 },
 "nbformat": 4,
 "nbformat_minor": 4
}
