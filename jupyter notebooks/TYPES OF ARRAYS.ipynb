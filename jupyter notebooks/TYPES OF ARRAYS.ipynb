{
 "cells": [
  {
   "cell_type": "markdown",
   "metadata": {},
   "source": [
    "# INTRODUCTION TO NUMPY\n",
    "\n",
    "In this practice, we are going to work with arrays. Arrays are fundamental for algebra, since they allow us to carry out a multitude of operations on our computer, spending less resources than if we used other storage structures. In addition, they are generally used to work with one type of data at a time, which greatly simplifies operations.\n",
    "\n",
    "The basic package for creating vectors and matrices in Python is **Numpy** (**NUM**eric **PY**thon).\n",
    "\n",
    "Main benefits: \n",
    "\n",
    "- Spend **less memory**.\n",
    "- **Faster** to read.\n",
    "- You don't have to check what **datatype** it is.\n",
    "\n"
   ]
  },
  {
   "cell_type": "code",
   "execution_count": 1,
   "metadata": {},
   "outputs": [],
   "source": [
    "# Importar paquetes\n",
    "#=================================\n",
    "import numpy as np\n"
   ]
  },
  {
   "cell_type": "markdown",
   "metadata": {},
   "source": [
    "# Basic functions\n",
    "## Know the properties of the vector (ndim, shape, dtype)\n",
    "\n",
    "- **ndim**: Know the dimension of the array\n",
    "- **shape**: Know the number of columns and rows\n",
    "- **dtype**: What is the datatype (number of bits)\n"
   ]
  },
  {
   "cell_type": "code",
   "execution_count": 3,
   "metadata": {},
   "outputs": [
    {
     "name": "stdout",
     "output_type": "stream",
     "text": [
      "Dimension: 2\n",
      "Datatype: int32\n",
      "Datatype: float32\n",
      "Shape: (2, 3)\n"
     ]
    }
   ],
   "source": [
    "# Know the dimension of the array\n",
    "#=================================\n",
    "matrix = np.array([[9,8,7],[6,5,4]])\n",
    "\n",
    "print(\"Dimension: {}\".format(matrix.ndim))\n",
    "print(\"Datatype: {}\".format(matrix.dtype))\n",
    "\n",
    "\n",
    "# Turn int to float\n",
    "#=================================\n",
    "matrix = np.array([[9,8,7],[6,5,4]], dtype=\"float32\")\n",
    "\n",
    "print(\"Datatype: {}\".format(matrix.dtype))\n",
    "\n",
    "\n",
    "# Know the shape of the array\n",
    "#=================================\n",
    "print(\"Shape: {}\".format(matrix.shape))\n",
    "\n",
    "\n"
   ]
  },
  {
   "cell_type": "markdown",
   "metadata": {},
   "source": [
    "## Storage\n",
    "\n",
    "We can always change the format of the data, although a smaller format means less precision if your project does not require great precision, it will not be a problem to change them.\n",
    "\n",
    "I repeat, depending on what your project is, you can change or not the format of your data.\n",
    "\n",
    "**For floats**\n",
    " \n",
    "Storage for decimal numbers will be **bigger** than integer numbers but that's not a problem.\n",
    "\n",
    "(Don't worry too much about the data type)"
   ]
  },
  {
   "cell_type": "markdown",
   "metadata": {},
   "source": [
    "# Accessing/ Changing specific elements, rows, columns..."
   ]
  },
  {
   "cell_type": "code",
   "execution_count": 4,
   "metadata": {},
   "outputs": [
    {
     "data": {
      "text/plain": [
       "array([[ 1,  2,  3,  4,  5,  6,  7],\n",
       "       [ 1,  4,  9, 16, 25, 36, 49]])"
      ]
     },
     "execution_count": 4,
     "metadata": {},
     "output_type": "execute_result"
    }
   ],
   "source": [
    "matrix = np.array([[1,2,3,4,5,6,7],[1,4,9,16,25,36,49]])\n",
    "\n",
    "matrix"
   ]
  },
  {
   "cell_type": "code",
   "execution_count": 8,
   "metadata": {},
   "outputs": [
    {
     "name": "stdout",
     "output_type": "stream",
     "text": [
      "Element:  36\n",
      "Column:  [2 4]\n",
      "Row:  [1 2 3 4 5 6 7]\n"
     ]
    }
   ],
   "source": [
    "# Get a specific element\n",
    "#=================================\n",
    "\n",
    "print(\"Element: \", matrix[1,5]) #row 1, col5\n",
    "\n",
    "\n",
    "# Get a specific column\n",
    "#=================================\n",
    "\n",
    "print(\"Column: \", matrix[:,1]) # row (:=all), col 1\n",
    "\n",
    "\n",
    "# Get a specific row\n",
    "#=================================\n",
    "\n",
    "print(\"Row: \", matrix[0,:]) # row 0, col (:=all)\n",
    "\n"
   ]
  },
  {
   "cell_type": "code",
   "execution_count": 5,
   "metadata": {},
   "outputs": [
    {
     "data": {
      "text/plain": [
       "array([ 1,  9, 25])"
      ]
     },
     "execution_count": 5,
     "metadata": {},
     "output_type": "execute_result"
    }
   ],
   "source": [
    "# If we need to change the stepsize...\n",
    "#=================================\n",
    "\n",
    "matrix[1, 0:6:2] # [startindex:stopindex:stepsize]"
   ]
  },
  {
   "cell_type": "code",
   "execution_count": 6,
   "metadata": {},
   "outputs": [
    {
     "data": {
      "text/plain": [
       "array([[ 1,  2,  3,  4,  5,  6,  7],\n",
       "       [ 1,  4,  9, 16, 25, 36, 49]])"
      ]
     },
     "execution_count": 6,
     "metadata": {},
     "output_type": "execute_result"
    }
   ],
   "source": [
    "# Change sth\n",
    "#=================================\n",
    "\n",
    "matrix[:,1] = 4\n",
    "matrix[:,1] = [2,4]\n",
    "\n",
    "matrix"
   ]
  },
  {
   "cell_type": "markdown",
   "metadata": {},
   "source": [
    "# What happens with more than 2D...?"
   ]
  },
  {
   "cell_type": "code",
   "execution_count": 7,
   "metadata": {},
   "outputs": [
    {
     "name": "stdout",
     "output_type": "stream",
     "text": [
      "[[[1 2]\n",
      "  [3 4]]\n",
      "\n",
      " [[5 6]\n",
      "  [7 8]]]\n",
      "6\n"
     ]
    },
    {
     "data": {
      "text/plain": [
       "array([5, 6])"
      ]
     },
     "execution_count": 7,
     "metadata": {},
     "output_type": "execute_result"
    }
   ],
   "source": [
    "# Create a 3d matrix\n",
    "#=================================\n",
    "matrix_3d = np.array([[[1,2],[3,4]],[[5,6],[7,8]]])\n",
    "\n",
    "print(matrix_3d)\n",
    "\n",
    "\n",
    "# Get a specific element (6)\n",
    "#=================================\n",
    "\n",
    "print(matrix_3d[1,0,1]) #nmatrix, row, col\n",
    "\n",
    "\n",
    "# Get a specific row or column\n",
    "#=================================\n",
    "\n",
    "matrix_3d[1,0,:] #nmatrix, row, col\n",
    "\n"
   ]
  },
  {
   "cell_type": "markdown",
   "metadata": {},
   "source": [
    "# Create different types of arrays\n",
    "\n",
    "- Zero arrays\n",
    "- One arrays\n",
    "- Any Other Number \n",
    "- Arrays (by copying shape)\n",
    "- Identity matrix"
   ]
  },
  {
   "cell_type": "code",
   "execution_count": 11,
   "metadata": {},
   "outputs": [
    {
     "data": {
      "text/plain": [
       "array([[25, 25],\n",
       "       [25, 25]], dtype=int8)"
      ]
     },
     "execution_count": 11,
     "metadata": {},
     "output_type": "execute_result"
    }
   ],
   "source": [
    "# Creating zero arrays\n",
    "#=================================\n",
    "np.zeros(shape=(6,4))\n",
    "\n",
    "\n",
    "# Creating one arrays\n",
    "#=================================\n",
    "np.ones(shape=(2,3,2))\n",
    "\n",
    "\n",
    "# Creating arrays with any other number\n",
    "#=================================\n",
    "np.full(shape=(2,2), fill_value=25, dtype= np.int8)\n",
    "\n",
    "\n"
   ]
  },
  {
   "cell_type": "code",
   "execution_count": 10,
   "metadata": {},
   "outputs": [
    {
     "name": "stdout",
     "output_type": "stream",
     "text": [
      "Matrix_shape: (2, 7)\n",
      "\n",
      "[[99 99 99 99 99 99 99]\n",
      " [99 99 99 99 99 99 99]]\n",
      "[[0. 0. 0. 0. 0. 0. 0.]\n",
      " [0. 0. 0. 0. 0. 0. 0.]]\n",
      "[[1 1 1 1 1 1 1]\n",
      " [1 1 1 1 1 1 1]]\n"
     ]
    }
   ],
   "source": [
    "# Creating arrays with specific shape\n",
    "#=================================\n",
    "\n",
    "print(\"Matrix_shape: {}\\n\".format(matrix.shape))\n",
    "\n",
    "\n",
    "# Use function _like to copy the shape\n",
    "#=================================\n",
    "\n",
    "print(np.full_like(a=matrix, fill_value=99))\n",
    "\n",
    "\n",
    "# Same process for ones and zeros\n",
    "#=================================\n",
    "\n",
    "print(np.zeros_like(a=matrix, dtype=np.float32))\n",
    "print(np.ones_like(a=matrix))\n"
   ]
  },
  {
   "cell_type": "code",
   "execution_count": 12,
   "metadata": {},
   "outputs": [
    {
     "data": {
      "text/plain": [
       "array([[1., 0., 0.],\n",
       "       [0., 1., 0.],\n",
       "       [0., 0., 1.]])"
      ]
     },
     "execution_count": 12,
     "metadata": {},
     "output_type": "execute_result"
    }
   ],
   "source": [
    "# Creating the identity matrix\n",
    "#=================================\n",
    " \n",
    "identity = np.identity(n=3) #ndim \n",
    "\n",
    "identity"
   ]
  },
  {
   "cell_type": "markdown",
   "metadata": {},
   "source": [
    "# Creating random arrays\n",
    "\n",
    "- Random decimal numbers\n",
    "- Random integer values\n",
    "- Random arrays (by copying shape)\n"
   ]
  },
  {
   "cell_type": "code",
   "execution_count": 14,
   "metadata": {},
   "outputs": [
    {
     "name": "stdout",
     "output_type": "stream",
     "text": [
      "Decimal Numbers: \n",
      " [[0.71542859 0.37338753]\n",
      " [0.16186048 0.92030282]]\n",
      "Integer numbers: \n",
      " [[0 5]\n",
      " [7 9]]\n",
      "Array like: \n",
      " [[0.15785419 0.07315103]\n",
      " [0.86718952 0.00600566]]\n"
     ]
    }
   ],
   "source": [
    "# Create a random array with decimal numbers (size)\n",
    "#=================================\n",
    "\n",
    "rand = np.random.rand(2,2)\n",
    "print(\"Decimal Numbers: \\n\", rand)\n",
    "\n",
    "\n",
    "# Create a integer array (low_value, high_value, size)\n",
    "#=================================\n",
    "\n",
    "rand = np.random.randint(0, 10, size=(2,2))\n",
    "print(\"Integer numbers: \\n\", rand)\n",
    "\n",
    "\n",
    "# Create a random array by copying other array\n",
    "#=================================\n",
    "\n",
    "rand = np.random.random_sample(size=rand.shape)\n",
    "print(\"Array like: \\n\", rand)"
   ]
  },
  {
   "cell_type": "markdown",
   "metadata": {},
   "source": [
    "# It's all by now !\n",
    "\n",
    "## Session information"
   ]
  },
  {
   "cell_type": "code",
   "execution_count": 17,
   "metadata": {},
   "outputs": [
    {
     "name": "stdout",
     "output_type": "stream",
     "text": [
      "-----\n",
      "numpy       1.19.2\n",
      "pandas      1.1.5\n",
      "sinfo       0.3.1\n",
      "-----\n",
      "IPython             7.19.0\n",
      "jupyter_client      6.1.7\n",
      "jupyter_core        4.7.0\n",
      "jupyterlab          2.2.6\n",
      "notebook            6.1.6\n",
      "-----\n",
      "Python 3.8.5 (default, Sep  3 2020, 21:29:08) [MSC v.1916 64 bit (AMD64)]\n",
      "Windows-10-10.0.19041-SP0\n",
      "8 logical CPU cores, Intel64 Family 6 Model 126 Stepping 5, GenuineIntel\n",
      "-----\n",
      "Session information updated at 2021-04-18 18:58\n"
     ]
    }
   ],
   "source": [
    "from sinfo import sinfo\n",
    "\n",
    "sinfo()"
   ]
  }
 ],
 "metadata": {
  "kernelspec": {
   "display_name": "Python 3",
   "language": "python",
   "name": "python3"
  },
  "language_info": {
   "codemirror_mode": {
    "name": "ipython",
    "version": 3
   },
   "file_extension": ".py",
   "mimetype": "text/x-python",
   "name": "python",
   "nbconvert_exporter": "python",
   "pygments_lexer": "ipython3",
   "version": "3.8.5"
  }
 },
 "nbformat": 4,
 "nbformat_minor": 4
}
