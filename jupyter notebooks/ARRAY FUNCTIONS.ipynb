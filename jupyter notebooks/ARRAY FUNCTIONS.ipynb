{
 "cells": [
  {
   "cell_type": "markdown",
   "metadata": {},
   "source": [
    "# Main Functions (Arrays)\n",
    "\n",
    "In this practice we are going to see the main functions with arrays. Arrays are fundamental for algebra, since they allow us to carry out a multitude of operations on our computer, spending less resources than if we used other storage structures. In addition, they are generally used to work with one type of data at a time, which greatly simplifies operations.\n",
    "\n",
    "The basic package for creating vectors and matrices in Python is **Numpy**.\n",
    "\n",
    "**Advantages:**\n",
    "\n",
    "- Spend less memory.\n",
    "- Faster to read.\n",
    "- You don't have to check what datatype it is.\n"
   ]
  },
  {
   "cell_type": "code",
   "execution_count": 2,
   "metadata": {},
   "outputs": [],
   "source": [
    "# Importar paquetes\n",
    "#=================================\n",
    "import numpy as np\n"
   ]
  },
  {
   "cell_type": "markdown",
   "metadata": {},
   "source": [
    "# Mathematics "
   ]
  },
  {
   "cell_type": "code",
   "execution_count": 7,
   "metadata": {},
   "outputs": [
    {
     "name": "stdout",
     "output_type": "stream",
     "text": [
      "[ 5 12 21 32]\n"
     ]
    }
   ],
   "source": [
    "a = np.array([1,2,3,4])\n",
    "b = np.array([[3,4],[5,6]])\n",
    "\n",
    "# Scalar operations\n",
    "#=================================\n",
    "# print(a+2, b-2)\n",
    "# print(a*2, b/2)\n",
    "\n",
    "\n",
    "# Arrays operations\n",
    "#=================================\n",
    "c = np.array([5,6,7,8])\n",
    "\n",
    "# print(a+c)\n",
    "print(a*c) # Multiply element by element NOT matrix operations\n"
   ]
  },
  {
   "cell_type": "markdown",
   "metadata": {},
   "source": [
    "# Linear Algebra\n",
    "\n",
    "**Multiplying one Matrix by Another Matrix**\n",
    "\n",
    "In linear algebra we are trying to multiple matrices by matrices properties and that's a different process."
   ]
  },
  {
   "cell_type": "code",
   "execution_count": 11,
   "metadata": {},
   "outputs": [
    {
     "name": "stdout",
     "output_type": "stream",
     "text": [
      "Dot_function: \n",
      " [[ 9. 12.]\n",
      " [ 9. 12.]]\n",
      "Matmul function: \n",
      " [[ 9. 12.]\n",
      " [ 9. 12.]]\n",
      "[[ True  True]\n",
      " [ True  True]]\n"
     ]
    }
   ],
   "source": [
    "a = np.ones(shape=(2,3))  # 2x3\n",
    "b = np.array([[1,2],[3,4],[5,6]]) #3x2\n",
    "\n",
    "\n",
    "# To multiply matrices .dot() or .matmul()\n",
    "#=================================\n",
    "\n",
    "result_dot = np.dot(a=a, b=b)  # 2x3 * 3x2 = 2x2\n",
    "print(\"Dot_function: \\n\", result_dot)\n",
    "\n",
    "result_matmul = np.matmul(a,b)\n",
    "print(\"Matmul function: \\n\", result_matmul)\n",
    "\n",
    "\n",
    "print(result_dot==result_matmul)"
   ]
  },
  {
   "cell_type": "markdown",
   "metadata": {},
   "source": [
    "## Other functions\n",
    "\n",
    "- Determinant of the matrix\n",
    "- Inverse\n",
    "- Transponse"
   ]
  },
  {
   "cell_type": "code",
   "execution_count": 12,
   "metadata": {},
   "outputs": [
    {
     "name": "stdout",
     "output_type": "stream",
     "text": [
      "Determinant:  1.0\n",
      "Matrix: \n",
      " [[6 9 7]\n",
      " [3 2 6]\n",
      " [6 7 4]]\n",
      "Matrix Tranponse: \n",
      " [[6 3 6]\n",
      " [9 2 7]\n",
      " [7 6 4]]\n",
      "Matrix inverse: \n",
      " [[-0.45333333  0.17333333  0.53333333]\n",
      " [ 0.32       -0.24       -0.2       ]\n",
      " [ 0.12        0.16       -0.2       ]]\n"
     ]
    }
   ],
   "source": [
    "identity = np.identity(n=3)\n",
    "\n",
    "# Calculate the determinant\n",
    "#=================================\n",
    "print(\"Determinant: \", np.linalg.det(identity))\n",
    "\n",
    "\n",
    "\n",
    "# Make the matrix transponse\n",
    "#=================================\n",
    "\n",
    "a = np.random.randint(low=1, high=10, size=(3,3))\n",
    "trans = a.T\n",
    "\n",
    "print(\"Matrix: \\n\", a)\n",
    "print(\"Matrix Tranponse: \\n\", trans)\n",
    "\n",
    "\n",
    "\n",
    "# Make the matrix inverse\n",
    "#=================================\n",
    "\n",
    "inv = np.linalg.inv(a)\n",
    "print(\"Matrix inverse: \\n\", inv)"
   ]
  },
  {
   "cell_type": "markdown",
   "metadata": {},
   "source": [
    "# Statistics "
   ]
  },
  {
   "cell_type": "code",
   "execution_count": 26,
   "metadata": {},
   "outputs": [
    {
     "name": "stdout",
     "output_type": "stream",
     "text": [
      "Min: 1\n",
      "Max: [3 6]\n",
      "--------------------\n",
      "Mean:  3.5\n",
      "Sumatory:  21\n",
      "Non-null values:  6\n"
     ]
    }
   ],
   "source": [
    "stats = np.array([[1,2,3],[4,5,6]])\n",
    "\n",
    "# Find the min and max into the array\n",
    "#=================================\n",
    "\n",
    "print(\"Min: {}\".format(np.min(stats)))\n",
    "print(\"Max: {}\".format(np.max(stats, axis=1)))\n",
    "print(\"-\"*20)\n",
    "\n",
    "\n",
    "# Get rudimentary statistics\n",
    "#=================================\n",
    "\n",
    "print(\"Mean: \", np.mean(stats)) \n",
    "print(\"Sumatory: \", np.sum(stats)) \n",
    "print(\"Non-null values: \", np.count_nonzero(stats)) # Similar to use isnull().sum()\n"
   ]
  },
  {
   "cell_type": "markdown",
   "metadata": {},
   "source": [
    "# Merge Arrays\n",
    "\n",
    "- Horizontal \n",
    "- Vertical\n"
   ]
  },
  {
   "cell_type": "code",
   "execution_count": 36,
   "metadata": {},
   "outputs": [
    {
     "name": "stdout",
     "output_type": "stream",
     "text": [
      "Vertical Stack: \n",
      " [[1 2]\n",
      " [3 4]\n",
      " [1 1]\n",
      " [2 2]]\n",
      "Horizontal Stack: \n",
      " [[1 2 1 1]\n",
      " [3 4 2 2]]\n"
     ]
    }
   ],
   "source": [
    "a = np.array([[1,2], [3,4]])\n",
    "b = np.array([[1,1], [2,2]])\n",
    "\n",
    "\n",
    "c = np.vstack((a,b))\n",
    "print(\"Vertical Stack: \\n\", c)\n",
    "\n",
    "\n",
    "d = np.hstack((a,b))\n",
    "print(\"Horizontal Stack: \\n\", d)\n"
   ]
  },
  {
   "cell_type": "markdown",
   "metadata": {},
   "source": [
    "# It's all by now!\n",
    "\n",
    "## Session information"
   ]
  },
  {
   "cell_type": "code",
   "execution_count": 3,
   "metadata": {},
   "outputs": [
    {
     "name": "stdout",
     "output_type": "stream",
     "text": [
      "-----\n",
      "numpy       1.19.2\n",
      "sinfo       0.3.1\n",
      "-----\n",
      "IPython             7.19.0\n",
      "jupyter_client      6.1.7\n",
      "jupyter_core        4.7.0\n",
      "jupyterlab          2.2.6\n",
      "notebook            6.1.6\n",
      "-----\n",
      "Python 3.8.5 (default, Sep  3 2020, 21:29:08) [MSC v.1916 64 bit (AMD64)]\n",
      "Windows-10-10.0.19041-SP0\n",
      "8 logical CPU cores, Intel64 Family 6 Model 126 Stepping 5, GenuineIntel\n",
      "-----\n",
      "Session information updated at 2021-04-18 19:29\n"
     ]
    }
   ],
   "source": [
    "from sinfo import sinfo\n",
    "\n",
    "sinfo()"
   ]
  }
 ],
 "metadata": {
  "kernelspec": {
   "display_name": "Python 3",
   "language": "python",
   "name": "python3"
  },
  "language_info": {
   "codemirror_mode": {
    "name": "ipython",
    "version": 3
   },
   "file_extension": ".py",
   "mimetype": "text/x-python",
   "name": "python",
   "nbconvert_exporter": "python",
   "pygments_lexer": "ipython3",
   "version": "3.8.5"
  }
 },
 "nbformat": 4,
 "nbformat_minor": 4
}
